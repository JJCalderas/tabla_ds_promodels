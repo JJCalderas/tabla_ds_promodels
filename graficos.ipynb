{
 "cells": [
  {
   "cell_type": "code",
   "execution_count": 1,
   "id": "33d67dff-783f-414d-9fa3-949c23a7bbe7",
   "metadata": {},
   "outputs": [],
   "source": [
    "import pandas as pd"
   ]
  },
  {
   "cell_type": "code",
   "execution_count": 2,
   "id": "387d9735-1100-4620-b0cb-b60e8570e8ca",
   "metadata": {},
   "outputs": [
    {
     "data": {
      "text/html": [
       "<div>\n",
       "<style scoped>\n",
       "    .dataframe tbody tr th:only-of-type {\n",
       "        vertical-align: middle;\n",
       "    }\n",
       "\n",
       "    .dataframe tbody tr th {\n",
       "        vertical-align: top;\n",
       "    }\n",
       "\n",
       "    .dataframe thead th {\n",
       "        text-align: right;\n",
       "    }\n",
       "</style>\n",
       "<table border=\"1\" class=\"dataframe\">\n",
       "  <thead>\n",
       "    <tr style=\"text-align: right;\">\n",
       "      <th></th>\n",
       "      <th>dataset</th>\n",
       "      <th>train_size</th>\n",
       "      <th>test_size</th>\n",
       "    </tr>\n",
       "  </thead>\n",
       "  <tbody>\n",
       "    <tr>\n",
       "      <th>0</th>\n",
       "      <td>davincis2022</td>\n",
       "      <td>2521</td>\n",
       "      <td>841</td>\n",
       "    </tr>\n",
       "    <tr>\n",
       "      <th>1</th>\n",
       "      <td>detoxis21_aggressiveness</td>\n",
       "      <td>2770</td>\n",
       "      <td>693</td>\n",
       "    </tr>\n",
       "    <tr>\n",
       "      <th>2</th>\n",
       "      <td>detoxis21_insult</td>\n",
       "      <td>2770</td>\n",
       "      <td>693</td>\n",
       "    </tr>\n",
       "    <tr>\n",
       "      <th>3</th>\n",
       "      <td>detoxis21_intolerance</td>\n",
       "      <td>2770</td>\n",
       "      <td>693</td>\n",
       "    </tr>\n",
       "    <tr>\n",
       "      <th>4</th>\n",
       "      <td>detoxis21_mockery</td>\n",
       "      <td>2770</td>\n",
       "      <td>693</td>\n",
       "    </tr>\n",
       "    <tr>\n",
       "      <th>5</th>\n",
       "      <td>detoxis21_sarcasm</td>\n",
       "      <td>2770</td>\n",
       "      <td>693</td>\n",
       "    </tr>\n",
       "    <tr>\n",
       "      <th>6</th>\n",
       "      <td>detoxis21_stereotype</td>\n",
       "      <td>2770</td>\n",
       "      <td>693</td>\n",
       "    </tr>\n",
       "    <tr>\n",
       "      <th>7</th>\n",
       "      <td>detoxis21_toxicity</td>\n",
       "      <td>2770</td>\n",
       "      <td>693</td>\n",
       "    </tr>\n",
       "    <tr>\n",
       "      <th>8</th>\n",
       "      <td>exist2021</td>\n",
       "      <td>2655</td>\n",
       "      <td>886</td>\n",
       "    </tr>\n",
       "    <tr>\n",
       "      <th>9</th>\n",
       "      <td>haha2021</td>\n",
       "      <td>18000</td>\n",
       "      <td>6000</td>\n",
       "    </tr>\n",
       "    <tr>\n",
       "      <th>10</th>\n",
       "      <td>meoffendes2021</td>\n",
       "      <td>3795</td>\n",
       "      <td>1265</td>\n",
       "    </tr>\n",
       "    <tr>\n",
       "      <th>11</th>\n",
       "      <td>metwo</td>\n",
       "      <td>2880</td>\n",
       "      <td>720</td>\n",
       "    </tr>\n",
       "    <tr>\n",
       "      <th>12</th>\n",
       "      <td>mexa3t2018_aggress</td>\n",
       "      <td>5389</td>\n",
       "      <td>2311</td>\n",
       "    </tr>\n",
       "    <tr>\n",
       "      <th>13</th>\n",
       "      <td>misoginia</td>\n",
       "      <td>2645</td>\n",
       "      <td>662</td>\n",
       "    </tr>\n",
       "    <tr>\n",
       "      <th>14</th>\n",
       "      <td>misogyny_centrogeo</td>\n",
       "      <td>5752</td>\n",
       "      <td>1439</td>\n",
       "    </tr>\n",
       "    <tr>\n",
       "      <th>15</th>\n",
       "      <td>semeval2018_anger</td>\n",
       "      <td>1359</td>\n",
       "      <td>627</td>\n",
       "    </tr>\n",
       "    <tr>\n",
       "      <th>16</th>\n",
       "      <td>semeval2018_sadness</td>\n",
       "      <td>1350</td>\n",
       "      <td>641</td>\n",
       "    </tr>\n",
       "  </tbody>\n",
       "</table>\n",
       "</div>"
      ],
      "text/plain": [
       "                     dataset  train_size  test_size\n",
       "0               davincis2022        2521        841\n",
       "1   detoxis21_aggressiveness        2770        693\n",
       "2           detoxis21_insult        2770        693\n",
       "3      detoxis21_intolerance        2770        693\n",
       "4          detoxis21_mockery        2770        693\n",
       "5          detoxis21_sarcasm        2770        693\n",
       "6       detoxis21_stereotype        2770        693\n",
       "7         detoxis21_toxicity        2770        693\n",
       "8                  exist2021        2655        886\n",
       "9                   haha2021       18000       6000\n",
       "10            meoffendes2021        3795       1265\n",
       "11                     metwo        2880        720\n",
       "12        mexa3t2018_aggress        5389       2311\n",
       "13                 misoginia        2645        662\n",
       "14        misogyny_centrogeo        5752       1439\n",
       "15         semeval2018_anger        1359        627\n",
       "16       semeval2018_sadness        1350        641"
      ]
     },
     "execution_count": 2,
     "metadata": {},
     "output_type": "execute_result"
    }
   ],
   "source": [
    "df = pd.read_csv('dataset_shapes.csv')\n",
    "\n",
    "import ast\n",
    "def train_sizer(row):\n",
    "    tup = ast.literal_eval(row['train_shape'])\n",
    "    return tup[0]\n",
    "def test_sizer(row):\n",
    "    tup = ast.literal_eval(row['test_shape'])\n",
    "    return tup[0]\n",
    "            \n",
    "df['train_size'] = df.apply(lambda row: train_sizer(row), axis=1) \n",
    "df['test_size'] = df.apply(lambda row: test_sizer(row), axis=1) \n",
    "\n",
    "df = df[['dataset', 'train_size', 'test_size']].copy()\n",
    "df"
   ]
  },
  {
   "cell_type": "code",
   "execution_count": 3,
   "id": "9d2c7178-9a7e-4fd7-aadd-1ff5e2673424",
   "metadata": {},
   "outputs": [
    {
     "data": {
      "image/png": "[encoded data removed]",
      "text/plain": [
       "<Figure size 432x288 with 1 Axes>"
      ]
     },
     "metadata": {
      "needs_background": "light"
     },
     "output_type": "display_data"
    }
   ],
   "source": [
    "import matplotlib.pyplot as plt\n",
    "\n",
    "fig = plt.subplots()\n",
    "p1 = plt.barh(df['dataset'], df['train_size'])\n",
    "p2 = plt.barh(df['dataset'], df['test_size'])\n",
    "plt.show()"
   ]
  },
  {
   "cell_type": "code",
   "execution_count": null,
   "id": "7ecf9ff9-4886-48e4-88d1-028e6e3fbfba",
   "metadata": {},
   "outputs": [],
   "source": []
  },
  {
   "cell_type": "code",
   "execution_count": 3,
   "id": "010ef5c3-d0f3-4f3f-862b-10fce1c11566",
   "metadata": {},
   "outputs": [],
   "source": [
    "stacked_method = \"sklearn.svm.LinearSVC\"\n",
    "\n",
    "# 9 Models Pre-Trained EvoMSA\n",
    "pre_models_dict = {\n",
    "    \"davincis\": [load_model('../pre_models/davincis2022_Es.evomsa'), stacked_method],\n",
    "    \"detoxis\" : [load_model('../pre_models/detoxis21_aggressiveness_Es.evomsa'), stacked_method],\n",
    "    \"exits\" : [load_model('../pre_models/exist2021_Es.evomsa'), stacked_method],\n",
    "    \"haha21\" : [load_model('../pre_models/haha2021_Es.evomsa'), stacked_method],\n",
    "    \"meoffendes\" : [load_model('../pre_models/meoffendes2021_Es.evomsa'), stacked_method],\n",
    "    \"mexa3t\" : [load_model('../pre_models/mexa3t2018_aggress_Es.evomsa'), stacked_method],\n",
    "    \"miso_centro\" : [load_model('../pre_models/misogyny_centrogeo_Es.evomsa'), stacked_method],\n",
    "    \"metwo\" : [load_model('../pre_models/metwo22_Es.evomsa'), stacked_method],\n",
    "    \"haha18\" : ['C:\\\\Users\\\\juan\\\\anaconda3\\\\lib\\\\site-packages\\\\EvoMSA\\\\models\\\\haha2018_Es.evomsa', stacked_method]\n",
    "}  \n"
   ]
  },
  {
   "cell_type": "code",
   "execution_count": 46,
   "id": "57d770d4-bb02-4805-8107-2a61ff70b73e",
   "metadata": {},
   "outputs": [
    {
     "ename": "ValueError",
     "evalue": "could not broadcast input array from shape (41,8) into shape (41,)",
     "output_type": "error",
     "traceback": [
      "\u001b[1;31m---------------------------------------------------------------------------\u001b[0m",
      "\u001b[1;31mValueError\u001b[0m                                Traceback (most recent call last)",
      "Input \u001b[1;32mIn [46]\u001b[0m, in \u001b[0;36m<cell line: 5>\u001b[1;34m()\u001b[0m\n\u001b[0;32m      3\u001b[0m df\u001b[38;5;241m.\u001b[39mdrop(\u001b[38;5;124m'\u001b[39m\u001b[38;5;124mIdx\u001b[39m\u001b[38;5;124m'\u001b[39m, inplace\u001b[38;5;241m=\u001b[39m\u001b[38;5;28;01mTrue\u001b[39;00m, axis\u001b[38;5;241m=\u001b[39m\u001b[38;5;241m1\u001b[39m)\n\u001b[0;32m      4\u001b[0m df\u001b[38;5;241m.\u001b[39mfillna(\u001b[38;5;124m\"\u001b[39m\u001b[38;5;124m\"\u001b[39m, inplace\u001b[38;5;241m=\u001b[39m\u001b[38;5;28;01mTrue\u001b[39;00m)\n\u001b[1;32m----> 5\u001b[0m \u001b[43mpd\u001b[49m\u001b[38;5;241;43m.\u001b[39;49m\u001b[43munique\u001b[49m\u001b[43m(\u001b[49m\u001b[43mdf\u001b[49m\u001b[43m)\u001b[49m\n",
      "File \u001b[1;32m~\\anaconda3\\lib\\site-packages\\pandas\\core\\algorithms.py:430\u001b[0m, in \u001b[0;36munique\u001b[1;34m(values)\u001b[0m\n\u001b[0;32m    336\u001b[0m \u001b[38;5;28;01mdef\u001b[39;00m \u001b[38;5;21munique\u001b[39m(values):\n\u001b[0;32m    337\u001b[0m     \u001b[38;5;124;03m\"\"\"\u001b[39;00m\n\u001b[0;32m    338\u001b[0m \u001b[38;5;124;03m    Return unique values based on a hash table.\u001b[39;00m\n\u001b[0;32m    339\u001b[0m \n\u001b[1;32m   (...)\u001b[0m\n\u001b[0;32m    428\u001b[0m \u001b[38;5;124;03m    array([('a', 'b'), ('b', 'a'), ('a', 'c')], dtype=object)\u001b[39;00m\n\u001b[0;32m    429\u001b[0m \u001b[38;5;124;03m    \"\"\"\u001b[39;00m\n\u001b[1;32m--> 430\u001b[0m     values \u001b[38;5;241m=\u001b[39m \u001b[43m_ensure_arraylike\u001b[49m\u001b[43m(\u001b[49m\u001b[43mvalues\u001b[49m\u001b[43m)\u001b[49m\n\u001b[0;32m    432\u001b[0m     \u001b[38;5;28;01mif\u001b[39;00m is_extension_array_dtype(values\u001b[38;5;241m.\u001b[39mdtype):\n\u001b[0;32m    433\u001b[0m         \u001b[38;5;66;03m# Dispatch to extension dtype's unique.\u001b[39;00m\n\u001b[0;32m    434\u001b[0m         \u001b[38;5;28;01mreturn\u001b[39;00m values\u001b[38;5;241m.\u001b[39munique()\n",
      "File \u001b[1;32m~\\anaconda3\\lib\\site-packages\\pandas\\core\\algorithms.py:247\u001b[0m, in \u001b[0;36m_ensure_arraylike\u001b[1;34m(values)\u001b[0m\n\u001b[0;32m    245\u001b[0m     \u001b[38;5;28;01mif\u001b[39;00m \u001b[38;5;28misinstance\u001b[39m(values, \u001b[38;5;28mtuple\u001b[39m):\n\u001b[0;32m    246\u001b[0m         values \u001b[38;5;241m=\u001b[39m \u001b[38;5;28mlist\u001b[39m(values)\n\u001b[1;32m--> 247\u001b[0m     values \u001b[38;5;241m=\u001b[39m \u001b[43mconstruct_1d_object_array_from_listlike\u001b[49m\u001b[43m(\u001b[49m\u001b[43mvalues\u001b[49m\u001b[43m)\u001b[49m\n\u001b[0;32m    248\u001b[0m \u001b[38;5;28;01melse\u001b[39;00m:\n\u001b[0;32m    249\u001b[0m     values \u001b[38;5;241m=\u001b[39m np\u001b[38;5;241m.\u001b[39masarray(values)\n",
      "File \u001b[1;32m~\\anaconda3\\lib\\site-packages\\pandas\\core\\dtypes\\cast.py:1981\u001b[0m, in \u001b[0;36mconstruct_1d_object_array_from_listlike\u001b[1;34m(values)\u001b[0m\n\u001b[0;32m   1978\u001b[0m \u001b[38;5;66;03m# numpy will try to interpret nested lists as further dimensions, hence\u001b[39;00m\n\u001b[0;32m   1979\u001b[0m \u001b[38;5;66;03m# making a 1D array that contains list-likes is a bit tricky:\u001b[39;00m\n\u001b[0;32m   1980\u001b[0m result \u001b[38;5;241m=\u001b[39m np\u001b[38;5;241m.\u001b[39mempty(\u001b[38;5;28mlen\u001b[39m(values), dtype\u001b[38;5;241m=\u001b[39m\u001b[38;5;124m\"\u001b[39m\u001b[38;5;124mobject\u001b[39m\u001b[38;5;124m\"\u001b[39m)\n\u001b[1;32m-> 1981\u001b[0m result[:] \u001b[38;5;241m=\u001b[39m values\n\u001b[0;32m   1982\u001b[0m \u001b[38;5;28;01mreturn\u001b[39;00m result\n",
      "\u001b[1;31mValueError\u001b[0m: could not broadcast input array from shape (41,8) into shape (41,)"
     ]
    }
   ],
   "source": [
    "df = pd.read_csv('premodels_combinations.csv')\n",
    "df.rename(columns = {df.columns[0]:'Idx'}, inplace = True)\n",
    "df.drop('Idx', inplace=True, axis=1)\n",
    "df.fillna(\"\", inplace=True)\n",
    "pd.unique(df)"
   ]
  },
  {
   "cell_type": "code",
   "execution_count": 40,
   "id": "bef576c8-ba10-4f22-a26e-0d86fab2ebf7",
   "metadata": {},
   "outputs": [
    {
     "ename": "NameError",
     "evalue": "name 'spl' is not defined",
     "output_type": "error",
     "traceback": [
      "\u001b[1;31m---------------------------------------------------------------------------\u001b[0m",
      "\u001b[1;31mNameError\u001b[0m                                 Traceback (most recent call last)",
      "Input \u001b[1;32mIn [40]\u001b[0m, in \u001b[0;36m<cell line: 1>\u001b[1;34m()\u001b[0m\n\u001b[1;32m----> 1\u001b[0m mrownames \u001b[38;5;241m=\u001b[39m \u001b[43mspl\u001b[49m(\u001b[38;5;124m'\u001b[39m\u001b[38;5;124mrow one,row two,row 3\u001b[39m\u001b[38;5;124m'\u001b[39m)\n\u001b[0;32m      2\u001b[0m mcolnames \u001b[38;5;241m=\u001b[39m spl(\u001b[38;5;124m'\u001b[39m\u001b[38;5;124mcol 1,col 2,col 3,col 4\u001b[39m\u001b[38;5;124m'\u001b[39m)\n",
      "\u001b[1;31mNameError\u001b[0m: name 'spl' is not defined"
     ]
    }
   ],
   "source": [
    "mcolnames = \n"
   ]
  },
  {
   "cell_type": "code",
   "execution_count": null,
   "id": "77d5ffe0-0072-426a-b24d-a4b5dec6156d",
   "metadata": {},
   "outputs": [],
   "source": []
  },
  {
   "cell_type": "code",
   "execution_count": 33,
   "id": "63123065-c834-4c44-aa00-9091ef813a1b",
   "metadata": {},
   "outputs": [
    {
     "data": {
      "text/plain": [
       "(696, 8)"
      ]
     },
     "execution_count": 33,
     "metadata": {},
     "output_type": "execute_result"
    }
   ],
   "source": [
    "df = pd.read_csv('results_40_random.csv')\n",
    "pd.set_option('display.max_colwidth', None)\n",
    "pd.options.display.max_rows = 700\n",
    "df.shape"
   ]
  },
  {
   "cell_type": "code",
   "execution_count": null,
   "id": "a03553c4-cc82-4d96-a236-c31f03b968c8",
   "metadata": {},
   "outputs": [],
   "source": [
    "df.loc[df['dataset'] == 'davincis2022']  \n",
    "# df.loc[df['dataset'] == 'meoffendes2021']  "
   ]
  },
  {
   "cell_type": "code",
   "execution_count": 39,
   "id": "4fd5afb9-09b3-4869-a4b0-7e9fbd6a4c61",
   "metadata": {},
   "outputs": [
    {
     "data": {
      "text/plain": [
       "275"
      ]
     },
     "execution_count": 39,
     "metadata": {},
     "output_type": "execute_result"
    }
   ],
   "source": [
    "# df.loc[(df['dataset'] == 'davincis2022') & (df['diff_gain_f1'] > 0.01) ]  \n",
    "len(df.loc[df['diff_gain_f1'] > 0.01]  )"
   ]
  },
  {
   "cell_type": "code",
   "execution_count": null,
   "id": "94e178fa-4b92-42c8-8865-36461c334b37",
   "metadata": {},
   "outputs": [],
   "source": []
  },
  {
   "cell_type": "code",
   "execution_count": null,
   "id": "48d8a501-4d29-4e02-8a1a-fe0ae18bc0da",
   "metadata": {},
   "outputs": [],
   "source": [
    "df"
   ]
  },
  {
   "cell_type": "code",
   "execution_count": null,
   "id": "80694905-bb2d-450a-bd1f-b453d47aec26",
   "metadata": {},
   "outputs": [],
   "source": []
  }
 ],
 "metadata": {
  "kernelspec": {
   "display_name": "Python 3 (ipykernel)",
   "language": "python",
   "name": "python3"
  },
  "language_info": {
   "codemirror_mode": {
    "name": "ipython",
    "version": 3
   },
   "file_extension": ".py",
   "mimetype": "text/x-python",
   "name": "python",
   "nbconvert_exporter": "python",
   "pygments_lexer": "ipython3",
   "version": "3.8.13"
  }
 },
 "nbformat": 4,
 "nbformat_minor": 5
}
