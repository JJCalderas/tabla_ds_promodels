{
 "cells": [
  {
   "cell_type": "code",
   "execution_count": 1,
   "id": "affd931b-9db2-4aa4-a2ea-235a727ca3fe",
   "metadata": {},
   "outputs": [],
   "source": [
    "import pandas as pd\n",
    "from glob import glob\n",
    "from microtc.utils import load_model\n",
    "from EvoMSA.base import EvoMSA\n",
    "from sklearn import metrics\n",
    "from sklearn.model_selection import StratifiedKFold\n",
    "import numpy as np\n",
    "from joblib import Parallel, delayed\n",
    "import joblib as joblib\n",
    "from timeit import default_timer as timer\n",
    "\n",
    "from sklearn import metrics\n",
    "from sklearn.metrics import classification_report\n",
    "from sklearn.metrics import confusion_matrix\n",
    "\n",
    "import warnings\n",
    "warnings.filterwarnings(\"ignore\")\n",
    "\n",
    "import winsound\n",
    "winsound.Beep(3000, 900)\n",
    "\n",
    "\n",
    "pd.set_option('display.max_colwidth', None)\n",
    "pd.options.display.max_rows = 1200"
   ]
  },
  {
   "cell_type": "code",
   "execution_count": 2,
   "id": "e777a506-fd22-46d0-bfa4-83cb101629c4",
   "metadata": {},
   "outputs": [],
   "source": [
    "stacked_method = \"sklearn.svm.LinearSVC\"\n",
    "\n",
    "# 9 Models Pre-Trained EvoMSA\n",
    "davincis = [load_model('pre_models/davincis2022_Es.evomsa'), stacked_method]\n",
    "detoxis = [load_model('pre_models/detoxis21_aggressiveness_Es.evomsa'), stacked_method]\n",
    "exits = [load_model('pre_models/exist2021_Es.evomsa'), stacked_method]\n",
    "haha21 = [load_model('pre_models/haha2021_Es.evomsa'), stacked_method]\n",
    "meoffendes = [load_model('pre_models/meoffendes2021_Es.evomsa'), stacked_method]\n",
    "mexa3t = [load_model('pre_models/mexa3t2018_aggress_Es.evomsa'), stacked_method]\n",
    "miso_centro = [load_model('pre_models/misogyny_centrogeo_Es.evomsa'), stacked_method]\n",
    "metwo = [load_model('pre_models/metwo22_Es.evomsa'), stacked_method]\n",
    "haha18 = [load_model('pre_models/haha2018_Es.evomsa'), stacked_method]\n"
   ]
  },
  {
   "cell_type": "code",
   "execution_count": 3,
   "id": "4932cd42-0a5c-47c1-89e8-12ed2aa07c81",
   "metadata": {},
   "outputs": [
    {
     "name": "stdout",
     "output_type": "stream",
     "text": [
      "(3795,) (3795,) (1265,) (1265,)\n"
     ]
    }
   ],
   "source": [
    "train_df = pd.read_json('dataset_es/meoffendes2021_Es_train.json', lines=True)\n",
    "test_df =  pd.read_json('dataset_es/meoffendes2021_Es_test.json', lines=True)\n",
    "\n",
    "X_train, y_train, X_test, y_test = train_df['text'], train_df['klass'], test_df['text'], test_df['klass']\n",
    "\n",
    "print(X_train.shape, y_train.shape, X_test.shape, y_test.shape)"
   ]
  },
  {
   "cell_type": "code",
   "execution_count": 4,
   "id": "81dc096b-f47c-4b71-838b-7a862b4903e0",
   "metadata": {},
   "outputs": [
    {
     "name": "stderr",
     "output_type": "stream",
     "text": [
      " 14%|████████████                                                                        | 1/7 [00:09<00:59,  9.91s/it]\n",
      "  0%|                                                                                            | 0/6 [00:00<?, ?it/s]\u001b[A\n",
      " 17%|██████████████                                                                      | 1/6 [00:08<00:42,  8.48s/it]\u001b[A\n",
      " 33%|████████████████████████████                                                        | 2/6 [00:12<00:23,  5.90s/it]\u001b[A\n",
      " 50%|██████████████████████████████████████████                                          | 3/6 [00:14<00:11,  3.91s/it]\u001b[A\n",
      " 67%|████████████████████████████████████████████████████████                            | 4/6 [00:15<00:05,  2.95s/it]\u001b[A\n",
      " 83%|██████████████████████████████████████████████████████████████████████              | 5/6 [00:20<00:03,  3.55s/it]\u001b[A\n",
      "100%|████████████████████████████████████████████████████████████████████████████████████| 6/6 [00:21<00:00,  3.55s/it]\u001b[A\n",
      "\n",
      "100%|███████████████████████████████████████████████████████████████████████████████████| 6/6 [00:00<00:00, 186.55it/s]\u001b[A\n",
      " 29%|████████████████████████                                                            | 2/7 [00:31<01:23, 16.63s/it]\n",
      "  0%|                                                                                            | 0/6 [00:00<?, ?it/s]\u001b[A\n",
      " 17%|██████████████                                                                      | 1/6 [00:09<00:47,  9.58s/it]\u001b[A\n",
      " 33%|████████████████████████████                                                        | 2/6 [00:13<00:25,  6.35s/it]\u001b[A\n",
      " 50%|██████████████████████████████████████████                                          | 3/6 [00:15<00:12,  4.17s/it]\u001b[A\n",
      " 67%|████████████████████████████████████████████████████████                            | 4/6 [00:16<00:06,  3.13s/it]\u001b[A\n",
      " 83%|██████████████████████████████████████████████████████████████████████              | 5/6 [00:21<00:03,  3.72s/it]\u001b[A\n",
      "100%|████████████████████████████████████████████████████████████████████████████████████| 6/6 [00:22<00:00,  3.76s/it]\u001b[A\n",
      "\n",
      "100%|███████████████████████████████████████████████████████████████████████████████████| 6/6 [00:00<00:00, 232.45it/s]\u001b[A\n",
      " 43%|████████████████████████████████████                                                | 3/7 [00:53<01:17, 19.35s/it]\n",
      "  0%|                                                                                            | 0/4 [00:00<?, ?it/s]\u001b[A\n",
      " 25%|█████████████████████                                                               | 1/4 [00:08<00:26,  8.81s/it]\u001b[A\n",
      " 50%|██████████████████████████████████████████                                          | 2/4 [00:10<00:09,  4.53s/it]\u001b[A\n",
      " 75%|███████████████████████████████████████████████████████████████                     | 3/4 [00:11<00:03,  3.15s/it]\u001b[A\n",
      "100%|████████████████████████████████████████████████████████████████████████████████████| 4/4 [00:12<00:00,  3.24s/it]\u001b[A\n",
      "\n",
      "100%|███████████████████████████████████████████████████████████████████████████████████| 4/4 [00:00<00:00, 242.70it/s]\u001b[A\n",
      "100%|████████████████████████████████████████████████████████████████████████████████████| 7/7 [01:14<00:00, 10.67s/it]\n",
      "100%|████████████████████████████████████████████████████████████████████████████████████| 5/5 [00:00<00:00,  6.90it/s]\n",
      "100%|████████████████████████████████████████████████████████████████████████████████████| 5/5 [00:00<00:00, 35.17it/s]\n",
      "100%|████████████████████████████████████████████████████████████████████████████████████| 5/5 [00:00<00:00, 28.75it/s]\n",
      "100%|████████████████████████████████████████████████████████████████████████████████████| 5/5 [00:00<00:00, 62.66it/s]\n",
      "100%|████████████████████████████████████████████████████████████████████████████████████| 5/5 [00:00<00:00, 39.28it/s]\n",
      "100%|██████████████████████████████████████████████████████████████████████████████████| 5/5 [00:00<00:00, 1113.20it/s]\n",
      "100%|████████████████████████████████████████████████████████████████████████████████████| 5/5 [00:00<00:00, 14.32it/s]\n",
      " 14%|████████████                                                                        | 1/7 [00:03<00:18,  3.00s/it]\n",
      "  0%|                                                                                            | 0/6 [00:00<?, ?it/s]\u001b[A\n",
      " 17%|██████████████                                                                      | 1/6 [00:02<00:14,  2.96s/it]\u001b[A\n",
      " 33%|████████████████████████████                                                        | 2/6 [00:04<00:08,  2.05s/it]\u001b[A\n",
      " 50%|██████████████████████████████████████████                                          | 3/6 [00:04<00:04,  1.36s/it]\u001b[A\n",
      " 67%|████████████████████████████████████████████████████████                            | 4/6 [00:05<00:02,  1.02s/it]\u001b[A\n",
      " 83%|██████████████████████████████████████████████████████████████████████              | 5/6 [00:06<00:01,  1.21s/it]\u001b[A\n",
      "100%|████████████████████████████████████████████████████████████████████████████████████| 6/6 [00:07<00:00,  1.22s/it]\u001b[A\n",
      "\n",
      "100%|████████████████████████████████████████████████████████████████████████████████████████████| 6/6 [00:00<?, ?it/s]\u001b[A\n",
      " 29%|████████████████████████                                                            | 2/7 [00:10<00:27,  5.56s/it]\n",
      "  0%|                                                                                            | 0/6 [00:00<?, ?it/s]\u001b[A\n",
      " 17%|██████████████                                                                      | 1/6 [00:03<00:15,  3.17s/it]\u001b[A\n",
      " 33%|████████████████████████████                                                        | 2/6 [00:04<00:08,  2.11s/it]\u001b[A\n",
      " 50%|██████████████████████████████████████████                                          | 3/6 [00:05<00:04,  1.39s/it]\u001b[A\n",
      " 67%|████████████████████████████████████████████████████████                            | 4/6 [00:05<00:02,  1.05s/it]\u001b[A\n",
      " 83%|██████████████████████████████████████████████████████████████████████              | 5/6 [00:07<00:01,  1.24s/it]\u001b[A\n",
      "100%|████████████████████████████████████████████████████████████████████████████████████| 6/6 [00:07<00:00,  1.25s/it]\u001b[A\n",
      "\n",
      "100%|███████████████████████████████████████████████████████████████████████████████████| 6/6 [00:00<00:00, 517.95it/s]\u001b[A\n",
      " 43%|████████████████████████████████████                                                | 3/7 [00:17<00:25,  6.46s/it]\n",
      "  0%|                                                                                            | 0/4 [00:00<?, ?it/s]\u001b[A\n",
      " 25%|█████████████████████                                                               | 1/4 [00:03<00:09,  3.03s/it]\u001b[A\n",
      " 50%|██████████████████████████████████████████                                          | 2/4 [00:03<00:03,  1.60s/it]\u001b[A\n",
      " 75%|███████████████████████████████████████████████████████████████                     | 3/4 [00:04<00:01,  1.10s/it]\u001b[A\n",
      "100%|████████████████████████████████████████████████████████████████████████████████████| 4/4 [00:04<00:00,  1.13s/it]\u001b[A\n",
      "\n",
      "100%|███████████████████████████████████████████████████████████████████████████████████| 4/4 [00:00<00:00, 743.11it/s]\u001b[A\n",
      "100%|████████████████████████████████████████████████████████████████████████████████████| 7/7 [00:25<00:00,  3.59s/it]\n",
      "100%|███████████████████████████████████████████████████████████████████████████████████| 7/7 [00:00<00:00, 772.63it/s]\n"
     ]
    }
   ],
   "source": [
    "evo = EvoMSA(TR=True, B4MSA=True, lang='es', Emo=True, HA=True, stacked_method=stacked_method, models = [davincis, mexa3t, metwo])                \n",
    "evo.fit(X_train, y_train)                \n",
    "pred = evo.predict(X_test)"
   ]
  },
  {
   "cell_type": "code",
   "execution_count": 6,
   "id": "435259b9-960f-4df8-80ce-ad45e5f77e7f",
   "metadata": {},
   "outputs": [
    {
     "name": "stdout",
     "output_type": "stream",
     "text": [
      "              precision    recall  f1-score   support\n",
      "\n",
      "           0       0.82      0.92      0.87       884\n",
      "           1       0.74      0.54      0.62       381\n",
      "\n",
      "    accuracy                           0.80      1265\n",
      "   macro avg       0.78      0.73      0.75      1265\n",
      "weighted avg       0.80      0.80      0.79      1265\n",
      "\n",
      "[[811  73]\n",
      " [175 206]]\n"
     ]
    }
   ],
   "source": [
    "print(classification_report(y_test, pred))\n",
    "print(confusion_matrix(y_test, pred))"
   ]
  },
  {
   "cell_type": "code",
   "execution_count": 8,
   "id": "e59afeb3-c786-4c53-bcfb-0b2415903c16",
   "metadata": {},
   "outputs": [
    {
     "name": "stdout",
     "output_type": "stream",
     "text": [
      "0.7290516145889003 0.7458110516934047\n"
     ]
    }
   ],
   "source": [
    "recall_score = metrics.recall_score(y_test, pred, average=\"macro\")\n",
    "f1_score = metrics.f1_score(y_test, pred, average=\"macro\")\n",
    "print(recall_score, f1_score)"
   ]
  },
  {
   "cell_type": "code",
   "execution_count": null,
   "id": "cc58c570-40b6-499b-b4fe-4a7b225c4fb6",
   "metadata": {},
   "outputs": [],
   "source": [
    "evo = EvoMSA(TR=True, B4MSA=True, lang='es', Emo=True, HA=True, stacked_method=stacked_method, models = [exits, meoffendes, miso_centro])                \n",
    "evo.fit(X_train, y_train)                \n",
    "pred = evo.predict(X_test)"
   ]
  },
  {
   "cell_type": "code",
   "execution_count": 11,
   "id": "29128ca5-e3dd-4fab-afbe-7f297e705f63",
   "metadata": {},
   "outputs": [
    {
     "name": "stdout",
     "output_type": "stream",
     "text": [
      "              precision    recall  f1-score   support\n",
      "\n",
      "           0       0.78      0.95      0.86       884\n",
      "           1       0.77      0.38      0.51       381\n",
      "\n",
      "    accuracy                           0.78      1265\n",
      "   macro avg       0.78      0.67      0.69      1265\n",
      "weighted avg       0.78      0.78      0.75      1265\n",
      "\n",
      "[[841  43]\n",
      " [235 146]]\n",
      "0.6672797829004407 0.6852219835302542\n"
     ]
    }
   ],
   "source": [
    "print(classification_report(y_test, pred))\n",
    "print(confusion_matrix(y_test, pred))\n",
    "recall_score = metrics.recall_score(y_test, pred, average=\"macro\")\n",
    "f1_score = metrics.f1_score(y_test, pred, average=\"macro\")\n",
    "print(recall_score, f1_score)"
   ]
  },
  {
   "cell_type": "code",
   "execution_count": null,
   "id": "e10fdb96-87b3-44f3-bc68-e2b0c908be45",
   "metadata": {},
   "outputs": [],
   "source": []
  }
 ],
 "metadata": {
  "kernelspec": {
   "display_name": "Python 3 (ipykernel)",
   "language": "python",
   "name": "python3"
  },
  "language_info": {
   "codemirror_mode": {
    "name": "ipython",
    "version": 3
   },
   "file_extension": ".py",
   "mimetype": "text/x-python",
   "name": "python",
   "nbconvert_exporter": "python",
   "pygments_lexer": "ipython3",
   "version": "3.9.13"
  }
 },
 "nbformat": 4,
 "nbformat_minor": 5
}
